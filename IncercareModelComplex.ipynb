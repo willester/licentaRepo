{
 "cells": [
  {
   "cell_type": "markdown",
   "id": "abstract-subject",
   "metadata": {},
   "source": [
    "importing necessary libraries"
   ]
  },
  {
   "cell_type": "code",
   "execution_count": 1,
   "id": "european-popularity",
   "metadata": {},
   "outputs": [],
   "source": [
    "import os"
   ]
  },
  {
   "cell_type": "code",
   "execution_count": 2,
   "id": "copyrighted-america",
   "metadata": {},
   "outputs": [],
   "source": [
    "import tensorflow as tf"
   ]
  },
  {
   "cell_type": "code",
   "execution_count": 3,
   "id": "separate-experiment",
   "metadata": {},
   "outputs": [],
   "source": [
    "import pandas as pd\n",
    "import numpy as np\n",
    "import seaborn as sns\n",
    "import matplotlib.pyplot as plt\n",
    "import math\n",
    "from matplotlib.image import imread"
   ]
  },
  {
   "cell_type": "code",
   "execution_count": 4,
   "id": "outdoor-diesel",
   "metadata": {},
   "outputs": [],
   "source": [
    "from tensorflow.keras.preprocessing.image import ImageDataGenerator\n",
    "from tensorflow.keras.applications import *"
   ]
  },
  {
   "cell_type": "code",
   "execution_count": 5,
   "id": "polyphonic-circulation",
   "metadata": {},
   "outputs": [],
   "source": [
    "from tensorflow.keras.models import Sequential\n",
    "from tensorflow.keras.layers import Dense,Conv2D,MaxPool2D,Dropout,Flatten"
   ]
  },
  {
   "cell_type": "code",
   "execution_count": 6,
   "id": "animal-barrier",
   "metadata": {},
   "outputs": [],
   "source": [
    "from tensorflow.keras.callbacks import EarlyStopping"
   ]
  },
  {
   "cell_type": "code",
   "execution_count": 7,
   "id": "lyric-subsection",
   "metadata": {},
   "outputs": [],
   "source": [
    "from tensorflow.keras.callbacks import ModelCheckpoint"
   ]
  },
  {
   "cell_type": "code",
   "execution_count": 8,
   "id": "funky-toner",
   "metadata": {},
   "outputs": [],
   "source": [
    "from sklearn.metrics import classification_report,confusion_matrix"
   ]
  },
  {
   "cell_type": "code",
   "execution_count": 9,
   "id": "ahead-teens",
   "metadata": {},
   "outputs": [],
   "source": [
    "train_path = 'E:/Faculta/_LICENTA/_Aplicatie/pozeModel2SauModelCuToateBolile/_trainPics'\n",
    "test_path = 'E:/Faculta/_LICENTA/_Aplicatie/pozeModel2SauModelCuToateBolile/_testPics'"
   ]
  },
  {
   "cell_type": "code",
   "execution_count": 10,
   "id": "civilian-examination",
   "metadata": {},
   "outputs": [],
   "source": [
    "image_shape = (300,300,1)"
   ]
  },
  {
   "cell_type": "code",
   "execution_count": 11,
   "id": "modern-procedure",
   "metadata": {},
   "outputs": [],
   "source": [
    "image_generator = ImageDataGenerator(rotation_range=25,\n",
    "                                    width_shift_range=0.2,\n",
    "                                     height_shift_range=0.2,\n",
    "                                     shear_range=0.1,\n",
    "                                     zoom_range=0.2,\n",
    "                                     horizontal_flip=True,\n",
    "                                     fill_mode='nearest')"
   ]
  },
  {
   "cell_type": "code",
   "execution_count": 12,
   "id": "hairy-participant",
   "metadata": {},
   "outputs": [
    {
     "name": "stdout",
     "output_type": "stream",
     "text": [
      "Found 38323 images belonging to 15 classes.\n"
     ]
    },
    {
     "data": {
      "text/plain": [
       "<tensorflow.python.keras.preprocessing.image.DirectoryIterator at 0x214d31ff348>"
      ]
     },
     "execution_count": 12,
     "metadata": {},
     "output_type": "execute_result"
    }
   ],
   "source": [
    "image_generator.flow_from_directory(train_path)"
   ]
  },
  {
   "cell_type": "code",
   "execution_count": 13,
   "id": "turned-blank",
   "metadata": {},
   "outputs": [
    {
     "name": "stdout",
     "output_type": "stream",
     "text": [
      "Found 9481 images belonging to 15 classes.\n"
     ]
    },
    {
     "data": {
      "text/plain": [
       "<tensorflow.python.keras.preprocessing.image.DirectoryIterator at 0x214d3203508>"
      ]
     },
     "execution_count": 13,
     "metadata": {},
     "output_type": "execute_result"
    }
   ],
   "source": [
    "image_generator.flow_from_directory(test_path)"
   ]
  },
  {
   "cell_type": "code",
   "execution_count": 14,
   "id": "sufficient-cambridge",
   "metadata": {},
   "outputs": [],
   "source": [
    "complexModel = Sequential()\n",
    "\n",
    "complexModel.add(Conv2D(filters=32,kernel_size=(3,3),input_shape=image_shape,activation='relu'))\n",
    "complexModel.add(MaxPool2D(pool_size=(2,2)))\n",
    "\n",
    "complexModel.add(Conv2D(filters=32,kernel_size=(3,3),input_shape=image_shape,activation='relu'))\n",
    "complexModel.add(MaxPool2D(pool_size=(2,2)))\n",
    "\n",
    "complexModel.add(Conv2D(filters=64,kernel_size=(3,3),input_shape=image_shape,activation='relu'))\n",
    "complexModel.add(MaxPool2D(pool_size=(2,2)))\n",
    "\n",
    "complexModel.add(Conv2D(filters=64,kernel_size=(3,3),input_shape=image_shape,activation='relu'))\n",
    "complexModel.add(MaxPool2D(pool_size=(2,2)))\n",
    "\n",
    "complexModel.add(Flatten())\n",
    "\n",
    "complexModel.add(Dense(256,activation='relu'))\n",
    "complexModel.add(Dropout(0.5))\n",
    "\n",
    "complexModel.add(Dense(15,activation='softmax'))\n",
    "\n",
    "complexModel.compile(loss='categorical_crossentropy',optimizer='adam',metrics=['accuracy'])"
   ]
  },
  {
   "cell_type": "code",
   "execution_count": 15,
   "id": "ongoing-balloon",
   "metadata": {},
   "outputs": [
    {
     "name": "stdout",
     "output_type": "stream",
     "text": [
      "Model: \"sequential\"\n",
      "_________________________________________________________________\n",
      "Layer (type)                 Output Shape              Param #   \n",
      "=================================================================\n",
      "conv2d (Conv2D)              (None, 298, 298, 32)      320       \n",
      "_________________________________________________________________\n",
      "max_pooling2d (MaxPooling2D) (None, 149, 149, 32)      0         \n",
      "_________________________________________________________________\n",
      "conv2d_1 (Conv2D)            (None, 147, 147, 32)      9248      \n",
      "_________________________________________________________________\n",
      "max_pooling2d_1 (MaxPooling2 (None, 73, 73, 32)        0         \n",
      "_________________________________________________________________\n",
      "conv2d_2 (Conv2D)            (None, 71, 71, 64)        18496     \n",
      "_________________________________________________________________\n",
      "max_pooling2d_2 (MaxPooling2 (None, 35, 35, 64)        0         \n",
      "_________________________________________________________________\n",
      "conv2d_3 (Conv2D)            (None, 33, 33, 64)        36928     \n",
      "_________________________________________________________________\n",
      "max_pooling2d_3 (MaxPooling2 (None, 16, 16, 64)        0         \n",
      "_________________________________________________________________\n",
      "flatten (Flatten)            (None, 16384)             0         \n",
      "_________________________________________________________________\n",
      "dense (Dense)                (None, 256)               4194560   \n",
      "_________________________________________________________________\n",
      "dropout (Dropout)            (None, 256)               0         \n",
      "_________________________________________________________________\n",
      "dense_1 (Dense)              (None, 15)                3855      \n",
      "=================================================================\n",
      "Total params: 4,263,407\n",
      "Trainable params: 4,263,407\n",
      "Non-trainable params: 0\n",
      "_________________________________________________________________\n"
     ]
    }
   ],
   "source": [
    "complexModel.summary()"
   ]
  },
  {
   "cell_type": "code",
   "execution_count": 16,
   "id": "inappropriate-compatibility",
   "metadata": {},
   "outputs": [],
   "source": [
    "early_stop = EarlyStopping(monitor='val_loss',patience=2)\n",
    "batch_size = 16"
   ]
  },
  {
   "cell_type": "code",
   "execution_count": 17,
   "id": "competent-cheese",
   "metadata": {},
   "outputs": [
    {
     "name": "stdout",
     "output_type": "stream",
     "text": [
      "Found 38323 images belonging to 15 classes.\n"
     ]
    }
   ],
   "source": [
    "train_images_model = image_generator.flow_from_directory(train_path,target_size=image_shape[:2],\n",
    "                                                  color_mode='grayscale',\n",
    "                                                  batch_size=batch_size,\n",
    "                                                  class_mode='categorical',\n",
    "                                                        shuffle=True)"
   ]
  },
  {
   "cell_type": "code",
   "execution_count": 18,
   "id": "unlikely-horizon",
   "metadata": {},
   "outputs": [
    {
     "name": "stdout",
     "output_type": "stream",
     "text": [
      "Found 9481 images belonging to 15 classes.\n"
     ]
    }
   ],
   "source": [
    "test_images_model = image_generator.flow_from_directory(test_path,target_size=image_shape[:2],\n",
    "                                                  color_mode='grayscale',\n",
    "                                                  batch_size=batch_size,\n",
    "                                                  class_mode='categorical',\n",
    "                                                  shuffle=False)"
   ]
  },
  {
   "cell_type": "code",
   "execution_count": 19,
   "id": "acute-discretion",
   "metadata": {},
   "outputs": [
    {
     "data": {
      "text/plain": [
       "{'Atelectasis': 0,\n",
       " 'Cardiomegaly': 1,\n",
       " 'Consolidation': 2,\n",
       " 'Edema': 3,\n",
       " 'Effusion': 4,\n",
       " 'Emphysema': 5,\n",
       " 'Fibrosis': 6,\n",
       " 'Hernia': 7,\n",
       " 'Infiltration': 8,\n",
       " 'Mass': 9,\n",
       " 'NoFindings': 10,\n",
       " 'Nodule': 11,\n",
       " 'PleuralThickening': 12,\n",
       " 'Pneumonia': 13,\n",
       " 'Pneumothorax': 14}"
      ]
     },
     "execution_count": 19,
     "metadata": {},
     "output_type": "execute_result"
    }
   ],
   "source": [
    "train_images_model.class_indices"
   ]
  },
  {
   "cell_type": "code",
   "execution_count": 20,
   "id": "final-processor",
   "metadata": {},
   "outputs": [
    {
     "data": {
      "text/plain": [
       "{'Atelectasis': 0,\n",
       " 'Cardiomegaly': 1,\n",
       " 'Consolidation': 2,\n",
       " 'Edema': 3,\n",
       " 'Effusion': 4,\n",
       " 'Emphysema': 5,\n",
       " 'Fibrosis': 6,\n",
       " 'Hernia': 7,\n",
       " 'Infiltration': 8,\n",
       " 'Mass': 9,\n",
       " 'NoFindings': 10,\n",
       " 'Nodule': 11,\n",
       " 'PleuralThickening': 12,\n",
       " 'Pneumonia': 13,\n",
       " 'Pneumothorax': 14}"
      ]
     },
     "execution_count": 20,
     "metadata": {},
     "output_type": "execute_result"
    }
   ],
   "source": [
    "test_images_model.class_indices"
   ]
  },
  {
   "cell_type": "code",
   "execution_count": 21,
   "id": "ready-morrison",
   "metadata": {},
   "outputs": [
    {
     "data": {
      "text/plain": [
       "47804"
      ]
     },
     "execution_count": 21,
     "metadata": {},
     "output_type": "execute_result"
    }
   ],
   "source": [
    "total_number_of_pictures = test_images_model.n + train_images_model.n\n",
    "total_number_of_pictures"
   ]
  },
  {
   "cell_type": "code",
   "execution_count": 22,
   "id": "through-finder",
   "metadata": {},
   "outputs": [],
   "source": [
    "#de schimbat path ul\n",
    "checkpoint_path = 'E:/Faculta/_LICENTA/_Aplicatie/pozeModel2SauModelCuToateBolile/_checkpoints/checkPointComplexModel.h5'\n",
    "checkpoint_folder = os.path.dirname(checkpoint_path)"
   ]
  },
  {
   "cell_type": "code",
   "execution_count": 23,
   "id": "pediatric-orientation",
   "metadata": {},
   "outputs": [],
   "source": [
    "checkpoint_call = ModelCheckpoint(checkpoint_path,\n",
    "                                  save_weighs_only=True,\n",
    "                                  verbose=1)"
   ]
  },
  {
   "cell_type": "code",
   "execution_count": 24,
   "id": "baking-modeling",
   "metadata": {},
   "outputs": [
    {
     "name": "stdout",
     "output_type": "stream",
     "text": [
      "Epoch 1/10\n",
      "2396/2396 [==============================] - 3008s 1s/step - loss: 2.7762 - accuracy: 0.6157 - val_loss: 1.7271 - val_accuracy: 0.5327\n",
      "\n",
      "Epoch 00001: saving model to E:/Faculta/_LICENTA/_Aplicatie/pozeModel2SauModelCuToateBolile/_checkpoints\\checkPointComplexModel.h5\n",
      "Epoch 2/10\n",
      "2396/2396 [==============================] - 5375s 2s/step - loss: 1.4838 - accuracy: 0.6209 - val_loss: 1.7442 - val_accuracy: 0.5327\n",
      "\n",
      "Epoch 00002: saving model to E:/Faculta/_LICENTA/_Aplicatie/pozeModel2SauModelCuToateBolile/_checkpoints\\checkPointComplexModel.h5\n",
      "Epoch 3/10\n",
      "2396/2396 [==============================] - 3884s 2s/step - loss: 1.4610 - accuracy: 0.6266 - val_loss: 1.7340 - val_accuracy: 0.5327\n",
      "\n",
      "Epoch 00003: saving model to E:/Faculta/_LICENTA/_Aplicatie/pozeModel2SauModelCuToateBolile/_checkpoints\\checkPointComplexModel.h5\n"
     ]
    }
   ],
   "source": [
    "trainedModel = complexModel.fit(train_images_model,\n",
    "                                     steps_per_epoch=int(math.ceil(train_images_model.n/batch_size)),\n",
    "                                     epochs=10,\n",
    "                                     validation_data= test_images_model,\n",
    "                                     callbacks = [early_stop,checkpoint_call],\n",
    "                                     verbose=1)"
   ]
  },
  {
   "cell_type": "code",
   "execution_count": 25,
   "id": "desperate-flour",
   "metadata": {},
   "outputs": [],
   "source": [
    "complexModel.save('complexModel.h5')"
   ]
  },
  {
   "cell_type": "code",
   "execution_count": 29,
   "id": "sunrise-refund",
   "metadata": {},
   "outputs": [
    {
     "data": {
      "text/plain": [
       "{'loss': [1.6979446411132812, 1.4717916250228882, 1.4686223268508911],\n",
       " 'accuracy': [0.6221068501472473, 0.6245335936546326, 0.6245335936546326],\n",
       " 'val_loss': [1.7271082401275635, 1.7442244291305542, 1.7340312004089355],\n",
       " 'val_accuracy': [0.5327497124671936, 0.5327497124671936, 0.5327497124671936]}"
      ]
     },
     "execution_count": 29,
     "metadata": {},
     "output_type": "execute_result"
    }
   ],
   "source": [
    "complexModel.history.history"
   ]
  },
  {
   "cell_type": "code",
   "execution_count": 32,
   "id": "headed-abraham",
   "metadata": {},
   "outputs": [],
   "source": [
    "metrics = pd.DataFrame(complexModel.history.history)"
   ]
  },
  {
   "cell_type": "code",
   "execution_count": 34,
   "id": "alleged-vintage",
   "metadata": {},
   "outputs": [
    {
     "data": {
      "text/plain": [
       "Index(['loss', 'accuracy', 'val_loss', 'val_accuracy'], dtype='object')"
      ]
     },
     "execution_count": 34,
     "metadata": {},
     "output_type": "execute_result"
    }
   ],
   "source": [
    "metrics.columns"
   ]
  },
  {
   "cell_type": "code",
   "execution_count": 36,
   "id": "productive-cutting",
   "metadata": {},
   "outputs": [
    {
     "data": {
      "text/plain": [
       "<AxesSubplot:>"
      ]
     },
     "execution_count": 36,
     "metadata": {},
     "output_type": "execute_result"
    },
    {
     "data": {
      "image/png": "[encoded data removed]",
      "text/plain": [
       "<Figure size 432x288 with 1 Axes>"
      ]
     },
     "metadata": {
      "needs_background": "light"
     },
     "output_type": "display_data"
    }
   ],
   "source": [
    "metrics[['accuracy','val_accuracy']].plot()"
   ]
  },
  {
   "cell_type": "code",
   "execution_count": 37,
   "id": "extended-nylon",
   "metadata": {},
   "outputs": [
    {
     "data": {
      "text/plain": [
       "<AxesSubplot:>"
      ]
     },
     "execution_count": 37,
     "metadata": {},
     "output_type": "execute_result"
    },
    {
     "data": {
      "image/png": "[encoded data removed]",
      "text/plain": [
       "<Figure size 432x288 with 1 Axes>"
      ]
     },
     "metadata": {
      "needs_background": "light"
     },
     "output_type": "display_data"
    }
   ],
   "source": [
    "metrics[['loss','val_loss']].plot()"
   ]
  },
  {
   "cell_type": "code",
   "execution_count": 40,
   "id": "dense-savannah",
   "metadata": {},
   "outputs": [
    {
     "name": "stdout",
     "output_type": "stream",
     "text": [
      "593/593 [==============================] - 147s 247ms/step - loss: 1.7340 - accuracy: 0.5327\n"
     ]
    },
    {
     "data": {
      "text/plain": [
       "[1.7340315580368042, 0.5327497124671936]"
      ]
     },
     "execution_count": 40,
     "metadata": {},
     "output_type": "execute_result"
    }
   ],
   "source": [
    "complexModel.evaluate(test_images_model)"
   ]
  },
  {
   "cell_type": "code",
   "execution_count": 41,
   "id": "suitable-mounting",
   "metadata": {},
   "outputs": [],
   "source": [
    "pred = complexModel.predict(test_images_model)"
   ]
  },
  {
   "cell_type": "code",
   "execution_count": 42,
   "id": "surrounded-witch",
   "metadata": {},
   "outputs": [
    {
     "data": {
      "text/plain": [
       "array([[0.08155715, 0.01423085, 0.01800348, ..., 0.00631136, 0.00293649,\n",
       "        0.01843599],\n",
       "       [0.08155715, 0.01423085, 0.01800348, ..., 0.00631136, 0.00293649,\n",
       "        0.01843599],\n",
       "       [0.08155715, 0.01423085, 0.01800348, ..., 0.00631136, 0.00293649,\n",
       "        0.01843599],\n",
       "       ...,\n",
       "       [0.08155718, 0.01423086, 0.01800349, ..., 0.00631136, 0.00293649,\n",
       "        0.01843599],\n",
       "       [0.08155718, 0.01423086, 0.01800349, ..., 0.00631136, 0.00293649,\n",
       "        0.01843599],\n",
       "       [0.08155718, 0.01423086, 0.01800349, ..., 0.00631136, 0.00293649,\n",
       "        0.01843599]], dtype=float32)"
      ]
     },
     "execution_count": 42,
     "metadata": {},
     "output_type": "execute_result"
    }
   ],
   "source": [
    "pred"
   ]
  },
  {
   "cell_type": "code",
   "execution_count": 43,
   "id": "unsigned-genesis",
   "metadata": {},
   "outputs": [
    {
     "data": {
      "text/plain": [
       "array([ 0,  0,  0, ..., 14, 14, 14])"
      ]
     },
     "execution_count": 43,
     "metadata": {},
     "output_type": "execute_result"
    }
   ],
   "source": [
    "test_images_model.classes"
   ]
  },
  {
   "cell_type": "code",
   "execution_count": 48,
   "id": "loving-knock",
   "metadata": {},
   "outputs": [
    {
     "data": {
      "text/plain": [
       "(9481, 15)"
      ]
     },
     "execution_count": 48,
     "metadata": {},
     "output_type": "execute_result"
    }
   ],
   "source": [
    "pred.shape"
   ]
  },
  {
   "cell_type": "code",
   "execution_count": 84,
   "id": "precise-america",
   "metadata": {},
   "outputs": [
    {
     "name": "stdout",
     "output_type": "stream",
     "text": [
      "Found 1 images belonging to 1 classes.\n"
     ]
    }
   ],
   "source": [
    "tibiTest = 'E:/Faculta/_LICENTA/_Aplicatie/pozeModel1SauBinaryModel/testeCuTibi'\n",
    "testingTibiPic = image_generator.flow_from_directory(tibiTest,target_size=image_shape[:2],\n",
    "                                                  color_mode='grayscale',\n",
    "                                                  batch_size= 1,\n",
    "                                                  class_mode='categorical',\n",
    "                                                        shuffle=True)"
   ]
  },
  {
   "cell_type": "code",
   "execution_count": 88,
   "id": "worthy-matrix",
   "metadata": {},
   "outputs": [],
   "source": [
    "tibiPred = complexModel.predict(testingTibiPic)"
   ]
  },
  {
   "cell_type": "code",
   "execution_count": 89,
   "id": "subsequent-compatibility",
   "metadata": {},
   "outputs": [
    {
     "data": {
      "text/plain": [
       "array([[0.08155716, 0.01423086, 0.01800349, 0.00792039, 0.05621583,\n",
       "        0.0103066 , 0.01092919, 0.0019314 , 0.11947411, 0.0178561 ,\n",
       "        0.61344653, 0.02044458, 0.00631136, 0.00293649, 0.01843599]],\n",
       "      dtype=float32)"
      ]
     },
     "execution_count": 89,
     "metadata": {},
     "output_type": "execute_result"
    }
   ],
   "source": [
    "tibiPred"
   ]
  },
  {
   "cell_type": "code",
   "execution_count": 87,
   "id": "remarkable-latino",
   "metadata": {},
   "outputs": [
    {
     "name": "stdout",
     "output_type": "stream",
     "text": [
      "10\n"
     ]
    }
   ],
   "source": [
    "classes = np.argmax(tibiPred[0], axis = 0)\n",
    "print(classes)"
   ]
  },
  {
   "cell_type": "code",
   "execution_count": null,
   "id": "future-authorization",
   "metadata": {},
   "outputs": [],
   "source": []
  },
  {
   "cell_type": "code",
   "execution_count": null,
   "id": "aerial-building",
   "metadata": {},
   "outputs": [],
   "source": []
  }
 ],
 "metadata": {
  "kernelspec": {
   "display_name": "gpuKernel",
   "language": "python",
   "name": "gpukernel"
  },
  "language_info": {
   "codemirror_mode": {
    "name": "ipython",
    "version": 3
   },
   "file_extension": ".py",
   "mimetype": "text/x-python",
   "name": "python",
   "nbconvert_exporter": "python",
   "pygments_lexer": "ipython3",
   "version": "3.7.10"
  }
 },
 "nbformat": 4,
 "nbformat_minor": 5
}

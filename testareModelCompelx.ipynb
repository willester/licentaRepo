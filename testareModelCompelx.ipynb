{
 "cells": [
  {
   "cell_type": "code",
   "execution_count": 102,
   "id": "confident-salmon",
   "metadata": {},
   "outputs": [],
   "source": [
    "from tensorflow.keras.models import load_model\n",
    "from tensorflow.keras.preprocessing.image import ImageDataGenerator"
   ]
  },
  {
   "cell_type": "code",
   "execution_count": 110,
   "id": "physical-microwave",
   "metadata": {},
   "outputs": [],
   "source": [
    "import numpy as np\n",
    "import os\n",
    "import math"
   ]
  },
  {
   "cell_type": "code",
   "execution_count": 103,
   "id": "nuclear-toyota",
   "metadata": {},
   "outputs": [],
   "source": [
    "from tensorflow.keras.callbacks import EarlyStopping"
   ]
  },
  {
   "cell_type": "code",
   "execution_count": 65,
   "id": "external-navigator",
   "metadata": {},
   "outputs": [],
   "source": [
    "image_generator = ImageDataGenerator(rotation_range=25,\n",
    "                                    width_shift_range=0.2,\n",
    "                                     height_shift_range=0.2,\n",
    "                                     shear_range=0.1,\n",
    "                                     zoom_range=0.2,\n",
    "                                     horizontal_flip=True,\n",
    "                                     fill_mode='nearest')\n",
    "\n",
    "loaded_model = load_model('E:/Faculta/_LICENTA/_Aplicatie/pozeModel2SauModelCuToateBolile/checkPointComplexModel61Accuracy.h5')"
   ]
  },
  {
   "cell_type": "code",
   "execution_count": 74,
   "id": "hybrid-biotechnology",
   "metadata": {},
   "outputs": [
    {
     "name": "stdout",
     "output_type": "stream",
     "text": [
      "Found 34 images belonging to 1 classes.\n"
     ]
    }
   ],
   "source": [
    "image_shape = (300, 300, 1)\n",
    "batch_size = 1\n",
    "path_test_imagine = 'E:/Faculta/_LICENTA/_Aplicatie/pozeModel1SauBinaryModel/testeCuTibi'\n",
    "test_images_generator = image_generator.flow_from_directory(path_test_imagine, target_size=image_shape[:2],\n",
    "                                                  color_mode='grayscale',\n",
    "                                                  batch_size=batch_size,\n",
    "                                                  class_mode='categorical',\n",
    "                                                  shuffle=False)"
   ]
  },
  {
   "cell_type": "code",
   "execution_count": 75,
   "id": "portuguese-manner",
   "metadata": {},
   "outputs": [],
   "source": [
    "pred = (loaded_model.predict(test_images_generator))"
   ]
  },
  {
   "cell_type": "code",
   "execution_count": 76,
   "id": "asian-healthcare",
   "metadata": {},
   "outputs": [
    {
     "data": {
      "text/plain": [
       "array([[0.10116115, 0.01608084, 0.01558421, 0.00801023, 0.05102973,\n",
       "        0.01130821, 0.01064848, 0.00276966, 0.1048798 , 0.01939653,\n",
       "        0.6034724 , 0.02207821, 0.00881337, 0.00284247, 0.02192467],\n",
       "       [0.10097066, 0.01601194, 0.01563421, 0.00792647, 0.05097935,\n",
       "        0.01132913, 0.01051865, 0.0028115 , 0.10347999, 0.01917297,\n",
       "        0.6054218 , 0.02211504, 0.00883149, 0.00281628, 0.02198052],\n",
       "       [0.09941134, 0.01603374, 0.01588388, 0.00816018, 0.05117106,\n",
       "        0.01129431, 0.01048441, 0.00288669, 0.10505661, 0.01934807,\n",
       "        0.6042428 , 0.02216041, 0.0088064 , 0.00298744, 0.02207272],\n",
       "       [0.10018503, 0.01521968, 0.01496422, 0.00755739, 0.05014582,\n",
       "        0.0105584 , 0.01000478, 0.0026042 , 0.10298207, 0.01855554,\n",
       "        0.6140847 , 0.02119463, 0.00835622, 0.00262926, 0.02095796],\n",
       "       [0.0984243 , 0.01538336, 0.01519511, 0.00772783, 0.05032037,\n",
       "        0.01078531, 0.01008991, 0.0026801 , 0.10364202, 0.0187186 ,\n",
       "        0.61309665, 0.02146631, 0.00839334, 0.0027596 , 0.02131716],\n",
       "       [0.09943379, 0.01600938, 0.01638856, 0.00839786, 0.0526484 ,\n",
       "        0.01173267, 0.01113716, 0.00299331, 0.10696165, 0.01914281,\n",
       "        0.5970933 , 0.0228742 , 0.00921826, 0.00316846, 0.02280025],\n",
       "       [0.09941437, 0.01576174, 0.01580714, 0.00799654, 0.05061287,\n",
       "        0.01104691, 0.01040864, 0.0027688 , 0.1024439 , 0.0192774 ,\n",
       "        0.6094502 , 0.02201556, 0.00857567, 0.00284775, 0.02157254],\n",
       "       [0.09637281, 0.01400344, 0.01440201, 0.00705024, 0.04865732,\n",
       "        0.00938267, 0.00924668, 0.00226511, 0.10121717, 0.01783741,\n",
       "        0.62978256, 0.02007706, 0.00756788, 0.00234841, 0.01978919],\n",
       "       [0.09908329, 0.01514445, 0.01663843, 0.00836825, 0.05280273,\n",
       "        0.01053076, 0.01044776, 0.00274299, 0.10491832, 0.01936577,\n",
       "        0.60621494, 0.02137352, 0.00797635, 0.00291313, 0.0214793 ],\n",
       "       [0.0974805 , 0.01504402, 0.01498182, 0.00750535, 0.04958485,\n",
       "        0.01053099, 0.00991135, 0.00255979, 0.10358085, 0.01864805,\n",
       "        0.61733097, 0.02099037, 0.00819216, 0.00260917, 0.02104974],\n",
       "       [0.09981986, 0.01692677, 0.01861868, 0.00932386, 0.05263227,\n",
       "        0.01262974, 0.01199107, 0.00344024, 0.10700043, 0.02196546,\n",
       "        0.58248377, 0.0254012 , 0.00970998, 0.00364793, 0.02440873],\n",
       "       [0.09622659, 0.01399461, 0.01415264, 0.0069317 , 0.04759897,\n",
       "        0.0093548 , 0.00903435, 0.0022271 , 0.10190292, 0.01717809,\n",
       "        0.6325916 , 0.01963354, 0.00731257, 0.00227244, 0.019588  ],\n",
       "       [0.10155261, 0.0186612 , 0.01925353, 0.01005798, 0.05488688,\n",
       "        0.01291063, 0.01251977, 0.00386335, 0.11105486, 0.02251877,\n",
       "        0.5677175 , 0.0254674 , 0.01046644, 0.00396029, 0.02510886],\n",
       "       [0.10296651, 0.01689716, 0.01911264, 0.00958252, 0.05324356,\n",
       "        0.01226195, 0.01236064, 0.0032738 , 0.11016572, 0.02146162,\n",
       "        0.5773514 , 0.02431669, 0.00930622, 0.00356372, 0.02413583],\n",
       "       [0.09836041, 0.01504424, 0.01483322, 0.00740653, 0.04956817,\n",
       "        0.01049636, 0.0098256 , 0.00254008, 0.10265119, 0.01834925,\n",
       "        0.6185466 , 0.02104251, 0.00812822, 0.00258738, 0.0206203 ],\n",
       "       [0.09916107, 0.01512354, 0.01491857, 0.00736696, 0.05019782,\n",
       "        0.01034454, 0.00988517, 0.00253185, 0.10278729, 0.01852447,\n",
       "        0.6167355 , 0.02087569, 0.00810984, 0.00259124, 0.02084647],\n",
       "       [0.102579  , 0.01790533, 0.01926632, 0.01033177, 0.05768758,\n",
       "        0.01245417, 0.0125215 , 0.00347192, 0.10837048, 0.02165093,\n",
       "        0.57155657, 0.02479869, 0.00967973, 0.00372829, 0.02399774],\n",
       "       [0.09711274, 0.01452273, 0.01491095, 0.00747773, 0.04836442,\n",
       "        0.00997475, 0.0097219 , 0.00246062, 0.10336311, 0.01865718,\n",
       "        0.62134606, 0.02103039, 0.0079313 , 0.00258049, 0.02054569],\n",
       "       [0.09398415, 0.01521741, 0.01602384, 0.00861294, 0.05113765,\n",
       "        0.0087726 , 0.00909965, 0.00225783, 0.11265364, 0.01791506,\n",
       "        0.61481196, 0.02024733, 0.00658564, 0.00266704, 0.02001318],\n",
       "       [0.09449454, 0.01390975, 0.01412404, 0.00740292, 0.04880153,\n",
       "        0.00935902, 0.00882275, 0.00223824, 0.10532918, 0.01814484,\n",
       "        0.62894756, 0.01948001, 0.00710762, 0.00241056, 0.01942744],\n",
       "       [0.10085861, 0.01696282, 0.01724041, 0.00881578, 0.05228704,\n",
       "        0.01209073, 0.01145514, 0.00321923, 0.1069189 , 0.02058188,\n",
       "        0.58965516, 0.02370353, 0.00970575, 0.00338841, 0.02311663],\n",
       "       [0.09387445, 0.01281197, 0.01431388, 0.00690943, 0.04873514,\n",
       "        0.00822135, 0.00861703, 0.00197522, 0.10802329, 0.01778518,\n",
       "        0.6329764 , 0.0188805 , 0.00623027, 0.0023651 , 0.01828091],\n",
       "       [0.10120177, 0.01764408, 0.01836891, 0.00979175, 0.05437804,\n",
       "        0.01325313, 0.01262202, 0.00368541, 0.10772337, 0.0226407 ,\n",
       "        0.57397836, 0.0257472 , 0.0103286 , 0.0038383 , 0.02479832],\n",
       "       [0.10110293, 0.01875421, 0.01941099, 0.01038657, 0.05458343,\n",
       "        0.01340926, 0.01283996, 0.00384984, 0.11176018, 0.02269848,\n",
       "        0.5651008 , 0.02605025, 0.01058859, 0.00401152, 0.02545286],\n",
       "       [0.1003313 , 0.01580324, 0.01615559, 0.00815566, 0.0520657 ,\n",
       "        0.01102926, 0.01051728, 0.002796  , 0.10645507, 0.01937393,\n",
       "        0.6016438 , 0.02210404, 0.00855864, 0.00288307, 0.02212735],\n",
       "       [0.1050318 , 0.01768051, 0.01847779, 0.00958478, 0.05654231,\n",
       "        0.01275183, 0.01244681, 0.00351444, 0.10823216, 0.02151696,\n",
       "        0.5698619 , 0.02509386, 0.01004805, 0.00363149, 0.02558534],\n",
       "       [0.0986234 , 0.01575539, 0.01609227, 0.00850176, 0.05201029,\n",
       "        0.01102899, 0.01033422, 0.00279324, 0.1051768 , 0.01987828,\n",
       "        0.60478234, 0.02188824, 0.00838482, 0.00291073, 0.02183922],\n",
       "       [0.09926379, 0.01527735, 0.01517261, 0.00778349, 0.05081246,\n",
       "        0.01069882, 0.00991398, 0.00263853, 0.10548547, 0.01873438,\n",
       "        0.6114144 , 0.02097379, 0.00819395, 0.00269872, 0.02093826],\n",
       "       [0.09604592, 0.01380091, 0.01386897, 0.00676459, 0.04748006,\n",
       "        0.00940165, 0.0090129 , 0.00226099, 0.10149047, 0.0170562 ,\n",
       "        0.6338075 , 0.01986584, 0.00743018, 0.00228699, 0.01942683],\n",
       "       [0.09938437, 0.0151468 , 0.01477208, 0.00737673, 0.04958319,\n",
       "        0.01058936, 0.00984198, 0.00251444, 0.10193885, 0.01820307,\n",
       "        0.6177146 , 0.02118018, 0.00823413, 0.00258656, 0.02093366],\n",
       "       [0.09896966, 0.0157103 , 0.01594982, 0.00797146, 0.05061357,\n",
       "        0.0107781 , 0.01067038, 0.00279315, 0.10347469, 0.01971122,\n",
       "        0.6080641 , 0.0220702 , 0.00850554, 0.00287786, 0.02183997],\n",
       "       [0.09780886, 0.01527209, 0.01566816, 0.00797116, 0.05076599,\n",
       "        0.01078474, 0.01033668, 0.00271577, 0.10543817, 0.01926821,\n",
       "        0.6097116 , 0.0216701 , 0.008343  , 0.00287268, 0.02137281],\n",
       "       [0.09877665, 0.01574836, 0.01553543, 0.00813628, 0.0510535 ,\n",
       "        0.01095578, 0.01035804, 0.0027577 , 0.1032268 , 0.01933584,\n",
       "        0.6091411 , 0.02175626, 0.00842363, 0.00279456, 0.02200001],\n",
       "       [0.099701  , 0.0158423 , 0.01562204, 0.00780337, 0.05063619,\n",
       "        0.01076122, 0.01021305, 0.00268882, 0.1047342 , 0.01869709,\n",
       "        0.6092702 , 0.0215233 , 0.00844369, 0.00279281, 0.02127068]],\n",
       "      dtype=float32)"
      ]
     },
     "execution_count": 76,
     "metadata": {},
     "output_type": "execute_result"
    }
   ],
   "source": [
    "pred"
   ]
  },
  {
   "cell_type": "code",
   "execution_count": 80,
   "id": "attempted-reference",
   "metadata": {},
   "outputs": [
    {
     "data": {
      "text/plain": [
       "(array([10], dtype=int64),)"
      ]
     },
     "execution_count": 80,
     "metadata": {},
     "output_type": "execute_result"
    }
   ],
   "source": [
    "categoryArray = pred[0]\n",
    "maximum = np.max(pred[0])\n",
    "index_of_maximum = np.where(categoryArray == maximum)\n",
    "index_of_maximum"
   ]
  },
  {
   "cell_type": "code",
   "execution_count": 83,
   "id": "sharing-sodium",
   "metadata": {},
   "outputs": [
    {
     "data": {
      "text/plain": [
       "array([0.10097066, 0.01601194, 0.01563421, 0.00792647, 0.05097935,\n",
       "       0.01132913, 0.01051865, 0.0028115 , 0.10347999, 0.01917297,\n",
       "       0.6054218 , 0.02211504, 0.00883149, 0.00281628, 0.02198052],\n",
       "      dtype=float32)"
      ]
     },
     "execution_count": 83,
     "metadata": {},
     "output_type": "execute_result"
    }
   ],
   "source": [
    "pred[1]"
   ]
  },
  {
   "cell_type": "code",
   "execution_count": 92,
   "id": "centered-venue",
   "metadata": {},
   "outputs": [
    {
     "data": {
      "text/plain": [
       "array([ 9.9411335 ,  1.6033745 ,  1.588388  ,  0.81601834,  5.117106  ,\n",
       "        1.1294311 ,  1.0484406 ,  0.2886695 , 10.505661  ,  1.9348072 ,\n",
       "       60.42428   ,  2.2160408 ,  0.88064027,  0.2987441 ,  2.207272  ],\n",
       "      dtype=float32)"
      ]
     },
     "execution_count": 92,
     "metadata": {},
     "output_type": "execute_result"
    }
   ],
   "source": [
    "pred[2]*100"
   ]
  },
  {
   "cell_type": "code",
   "execution_count": 93,
   "id": "japanese-shannon",
   "metadata": {},
   "outputs": [],
   "source": [
    "#####reantreanre model "
   ]
  },
  {
   "cell_type": "code",
   "execution_count": 105,
   "id": "curious-concern",
   "metadata": {},
   "outputs": [
    {
     "name": "stdout",
     "output_type": "stream",
     "text": [
      "Found 58480 images belonging to 15 classes.\n",
      "Found 9481 images belonging to 15 classes.\n"
     ]
    }
   ],
   "source": [
    "train_path = 'E:/Faculta/_LICENTA/_Aplicatie/pozeModel2SauModelCuToateBolile/_trainPics'\n",
    "test_path = 'E:/Faculta/_LICENTA/_Aplicatie/pozeModel2SauModelCuToateBolile/_testPics'\n",
    "batch_size = 16\n",
    "image_shape = (300,300,1)\n",
    "train_images_model = image_generator.flow_from_directory(train_path,target_size=image_shape[:2],\n",
    "                                                  color_mode='grayscale',\n",
    "                                                  batch_size=batch_size,\n",
    "                                                  class_mode='categorical',\n",
    "                                                        shuffle=True)\n",
    "test_images_model = image_generator.flow_from_directory(test_path,target_size=image_shape[:2],\n",
    "                                                  color_mode='grayscale',\n",
    "                                                  batch_size=batch_size,\n",
    "                                                  class_mode='categorical',\n",
    "                                                  shuffle=False)"
   ]
  },
  {
   "cell_type": "code",
   "execution_count": 106,
   "id": "generous-rotation",
   "metadata": {},
   "outputs": [],
   "source": [
    "from tensorflow.keras.callbacks import ModelCheckpoint"
   ]
  },
  {
   "cell_type": "code",
   "execution_count": 107,
   "id": "compliant-button",
   "metadata": {},
   "outputs": [],
   "source": [
    "#de schimbat path ul\n",
    "checkpoint_path = 'E:/Faculta/_LICENTA/_Aplicatie/pozeModel2SauModelCuToateBolile/_checkpoints/checkPointComplexModelImbunatati.h5'\n",
    "checkpoint_folder = os.path.dirname(checkpoint_path)"
   ]
  },
  {
   "cell_type": "code",
   "execution_count": 108,
   "id": "banner-provincial",
   "metadata": {},
   "outputs": [],
   "source": [
    "checkpoint_call = ModelCheckpoint(checkpoint_path,\n",
    "                                  save_weighs_only=True,\n",
    "                                  verbose=1)\n",
    "early_stop = EarlyStopping(monitor='val_loss',patience=2)"
   ]
  },
  {
   "cell_type": "code",
   "execution_count": 111,
   "id": "closing-secretariat",
   "metadata": {},
   "outputs": [
    {
     "name": "stdout",
     "output_type": "stream",
     "text": [
      "Epoch 1/10\n",
      " 189/3655 [>.............................] - ETA: 3:36:53 - loss: 1.7449 - accuracy: 0.5298"
     ]
    },
    {
     "ename": "KeyboardInterrupt",
     "evalue": "",
     "output_type": "error",
     "traceback": [
      "\u001b[1;31m---------------------------------------------------------------------------\u001b[0m",
      "\u001b[1;31mKeyboardInterrupt\u001b[0m                         Traceback (most recent call last)",
      "\u001b[1;32m<ipython-input-111-7c75edc4c017>\u001b[0m in \u001b[0;36m<module>\u001b[1;34m\u001b[0m\n\u001b[0;32m      4\u001b[0m                                      \u001b[0mvalidation_data\u001b[0m\u001b[1;33m=\u001b[0m \u001b[0mtest_images_model\u001b[0m\u001b[1;33m,\u001b[0m\u001b[1;33m\u001b[0m\u001b[1;33m\u001b[0m\u001b[0m\n\u001b[0;32m      5\u001b[0m                                      \u001b[0mcallbacks\u001b[0m \u001b[1;33m=\u001b[0m \u001b[1;33m[\u001b[0m\u001b[0mearly_stop\u001b[0m\u001b[1;33m,\u001b[0m\u001b[0mcheckpoint_call\u001b[0m\u001b[1;33m]\u001b[0m\u001b[1;33m,\u001b[0m\u001b[1;33m\u001b[0m\u001b[1;33m\u001b[0m\u001b[0m\n\u001b[1;32m----> 6\u001b[1;33m                                      verbose=1)\n\u001b[0m",
      "\u001b[1;32m~\\anaconda3\\envs\\licentaVersion2\\lib\\site-packages\\tensorflow\\python\\keras\\engine\\training.py\u001b[0m in \u001b[0;36mfit\u001b[1;34m(self, x, y, batch_size, epochs, verbose, callbacks, validation_split, validation_data, shuffle, class_weight, sample_weight, initial_epoch, steps_per_epoch, validation_steps, validation_batch_size, validation_freq, max_queue_size, workers, use_multiprocessing)\u001b[0m\n\u001b[0;32m   1098\u001b[0m                 _r=1):\n\u001b[0;32m   1099\u001b[0m               \u001b[0mcallbacks\u001b[0m\u001b[1;33m.\u001b[0m\u001b[0mon_train_batch_begin\u001b[0m\u001b[1;33m(\u001b[0m\u001b[0mstep\u001b[0m\u001b[1;33m)\u001b[0m\u001b[1;33m\u001b[0m\u001b[1;33m\u001b[0m\u001b[0m\n\u001b[1;32m-> 1100\u001b[1;33m               \u001b[0mtmp_logs\u001b[0m \u001b[1;33m=\u001b[0m \u001b[0mself\u001b[0m\u001b[1;33m.\u001b[0m\u001b[0mtrain_function\u001b[0m\u001b[1;33m(\u001b[0m\u001b[0miterator\u001b[0m\u001b[1;33m)\u001b[0m\u001b[1;33m\u001b[0m\u001b[1;33m\u001b[0m\u001b[0m\n\u001b[0m\u001b[0;32m   1101\u001b[0m               \u001b[1;32mif\u001b[0m \u001b[0mdata_handler\u001b[0m\u001b[1;33m.\u001b[0m\u001b[0mshould_sync\u001b[0m\u001b[1;33m:\u001b[0m\u001b[1;33m\u001b[0m\u001b[1;33m\u001b[0m\u001b[0m\n\u001b[0;32m   1102\u001b[0m                 \u001b[0mcontext\u001b[0m\u001b[1;33m.\u001b[0m\u001b[0masync_wait\u001b[0m\u001b[1;33m(\u001b[0m\u001b[1;33m)\u001b[0m\u001b[1;33m\u001b[0m\u001b[1;33m\u001b[0m\u001b[0m\n",
      "\u001b[1;32m~\\anaconda3\\envs\\licentaVersion2\\lib\\site-packages\\tensorflow\\python\\eager\\def_function.py\u001b[0m in \u001b[0;36m__call__\u001b[1;34m(self, *args, **kwds)\u001b[0m\n\u001b[0;32m    826\u001b[0m     \u001b[0mtracing_count\u001b[0m \u001b[1;33m=\u001b[0m \u001b[0mself\u001b[0m\u001b[1;33m.\u001b[0m\u001b[0mexperimental_get_tracing_count\u001b[0m\u001b[1;33m(\u001b[0m\u001b[1;33m)\u001b[0m\u001b[1;33m\u001b[0m\u001b[1;33m\u001b[0m\u001b[0m\n\u001b[0;32m    827\u001b[0m     \u001b[1;32mwith\u001b[0m \u001b[0mtrace\u001b[0m\u001b[1;33m.\u001b[0m\u001b[0mTrace\u001b[0m\u001b[1;33m(\u001b[0m\u001b[0mself\u001b[0m\u001b[1;33m.\u001b[0m\u001b[0m_name\u001b[0m\u001b[1;33m)\u001b[0m \u001b[1;32mas\u001b[0m \u001b[0mtm\u001b[0m\u001b[1;33m:\u001b[0m\u001b[1;33m\u001b[0m\u001b[1;33m\u001b[0m\u001b[0m\n\u001b[1;32m--> 828\u001b[1;33m       \u001b[0mresult\u001b[0m \u001b[1;33m=\u001b[0m \u001b[0mself\u001b[0m\u001b[1;33m.\u001b[0m\u001b[0m_call\u001b[0m\u001b[1;33m(\u001b[0m\u001b[1;33m*\u001b[0m\u001b[0margs\u001b[0m\u001b[1;33m,\u001b[0m \u001b[1;33m**\u001b[0m\u001b[0mkwds\u001b[0m\u001b[1;33m)\u001b[0m\u001b[1;33m\u001b[0m\u001b[1;33m\u001b[0m\u001b[0m\n\u001b[0m\u001b[0;32m    829\u001b[0m       \u001b[0mcompiler\u001b[0m \u001b[1;33m=\u001b[0m \u001b[1;34m\"xla\"\u001b[0m \u001b[1;32mif\u001b[0m \u001b[0mself\u001b[0m\u001b[1;33m.\u001b[0m\u001b[0m_experimental_compile\u001b[0m \u001b[1;32melse\u001b[0m \u001b[1;34m\"nonXla\"\u001b[0m\u001b[1;33m\u001b[0m\u001b[1;33m\u001b[0m\u001b[0m\n\u001b[0;32m    830\u001b[0m       \u001b[0mnew_tracing_count\u001b[0m \u001b[1;33m=\u001b[0m \u001b[0mself\u001b[0m\u001b[1;33m.\u001b[0m\u001b[0mexperimental_get_tracing_count\u001b[0m\u001b[1;33m(\u001b[0m\u001b[1;33m)\u001b[0m\u001b[1;33m\u001b[0m\u001b[1;33m\u001b[0m\u001b[0m\n",
      "\u001b[1;32m~\\anaconda3\\envs\\licentaVersion2\\lib\\site-packages\\tensorflow\\python\\eager\\def_function.py\u001b[0m in \u001b[0;36m_call\u001b[1;34m(self, *args, **kwds)\u001b[0m\n\u001b[0;32m    860\u001b[0m       \u001b[1;31m# In this case we have not created variables on the first call. So we can\u001b[0m\u001b[1;33m\u001b[0m\u001b[1;33m\u001b[0m\u001b[1;33m\u001b[0m\u001b[0m\n\u001b[0;32m    861\u001b[0m       \u001b[1;31m# run the first trace but we should fail if variables are created.\u001b[0m\u001b[1;33m\u001b[0m\u001b[1;33m\u001b[0m\u001b[1;33m\u001b[0m\u001b[0m\n\u001b[1;32m--> 862\u001b[1;33m       \u001b[0mresults\u001b[0m \u001b[1;33m=\u001b[0m \u001b[0mself\u001b[0m\u001b[1;33m.\u001b[0m\u001b[0m_stateful_fn\u001b[0m\u001b[1;33m(\u001b[0m\u001b[1;33m*\u001b[0m\u001b[0margs\u001b[0m\u001b[1;33m,\u001b[0m \u001b[1;33m**\u001b[0m\u001b[0mkwds\u001b[0m\u001b[1;33m)\u001b[0m\u001b[1;33m\u001b[0m\u001b[1;33m\u001b[0m\u001b[0m\n\u001b[0m\u001b[0;32m    863\u001b[0m       \u001b[1;32mif\u001b[0m \u001b[0mself\u001b[0m\u001b[1;33m.\u001b[0m\u001b[0m_created_variables\u001b[0m\u001b[1;33m:\u001b[0m\u001b[1;33m\u001b[0m\u001b[1;33m\u001b[0m\u001b[0m\n\u001b[0;32m    864\u001b[0m         raise ValueError(\"Creating variables on a non-first call to a function\"\n",
      "\u001b[1;32m~\\anaconda3\\envs\\licentaVersion2\\lib\\site-packages\\tensorflow\\python\\eager\\function.py\u001b[0m in \u001b[0;36m__call__\u001b[1;34m(self, *args, **kwargs)\u001b[0m\n\u001b[0;32m   2941\u001b[0m        filtered_flat_args) = self._maybe_define_function(args, kwargs)\n\u001b[0;32m   2942\u001b[0m     return graph_function._call_flat(\n\u001b[1;32m-> 2943\u001b[1;33m         filtered_flat_args, captured_inputs=graph_function.captured_inputs)  # pylint: disable=protected-access\n\u001b[0m\u001b[0;32m   2944\u001b[0m \u001b[1;33m\u001b[0m\u001b[0m\n\u001b[0;32m   2945\u001b[0m   \u001b[1;33m@\u001b[0m\u001b[0mproperty\u001b[0m\u001b[1;33m\u001b[0m\u001b[1;33m\u001b[0m\u001b[0m\n",
      "\u001b[1;32m~\\anaconda3\\envs\\licentaVersion2\\lib\\site-packages\\tensorflow\\python\\eager\\function.py\u001b[0m in \u001b[0;36m_call_flat\u001b[1;34m(self, args, captured_inputs, cancellation_manager)\u001b[0m\n\u001b[0;32m   1917\u001b[0m       \u001b[1;31m# No tape is watching; skip to running the function.\u001b[0m\u001b[1;33m\u001b[0m\u001b[1;33m\u001b[0m\u001b[1;33m\u001b[0m\u001b[0m\n\u001b[0;32m   1918\u001b[0m       return self._build_call_outputs(self._inference_function.call(\n\u001b[1;32m-> 1919\u001b[1;33m           ctx, args, cancellation_manager=cancellation_manager))\n\u001b[0m\u001b[0;32m   1920\u001b[0m     forward_backward = self._select_forward_and_backward_functions(\n\u001b[0;32m   1921\u001b[0m         \u001b[0margs\u001b[0m\u001b[1;33m,\u001b[0m\u001b[1;33m\u001b[0m\u001b[1;33m\u001b[0m\u001b[0m\n",
      "\u001b[1;32m~\\anaconda3\\envs\\licentaVersion2\\lib\\site-packages\\tensorflow\\python\\eager\\function.py\u001b[0m in \u001b[0;36mcall\u001b[1;34m(self, ctx, args, cancellation_manager)\u001b[0m\n\u001b[0;32m    558\u001b[0m               \u001b[0minputs\u001b[0m\u001b[1;33m=\u001b[0m\u001b[0margs\u001b[0m\u001b[1;33m,\u001b[0m\u001b[1;33m\u001b[0m\u001b[1;33m\u001b[0m\u001b[0m\n\u001b[0;32m    559\u001b[0m               \u001b[0mattrs\u001b[0m\u001b[1;33m=\u001b[0m\u001b[0mattrs\u001b[0m\u001b[1;33m,\u001b[0m\u001b[1;33m\u001b[0m\u001b[1;33m\u001b[0m\u001b[0m\n\u001b[1;32m--> 560\u001b[1;33m               ctx=ctx)\n\u001b[0m\u001b[0;32m    561\u001b[0m         \u001b[1;32melse\u001b[0m\u001b[1;33m:\u001b[0m\u001b[1;33m\u001b[0m\u001b[1;33m\u001b[0m\u001b[0m\n\u001b[0;32m    562\u001b[0m           outputs = execute.execute_with_cancellation(\n",
      "\u001b[1;32m~\\anaconda3\\envs\\licentaVersion2\\lib\\site-packages\\tensorflow\\python\\eager\\execute.py\u001b[0m in \u001b[0;36mquick_execute\u001b[1;34m(op_name, num_outputs, inputs, attrs, ctx, name)\u001b[0m\n\u001b[0;32m     58\u001b[0m     \u001b[0mctx\u001b[0m\u001b[1;33m.\u001b[0m\u001b[0mensure_initialized\u001b[0m\u001b[1;33m(\u001b[0m\u001b[1;33m)\u001b[0m\u001b[1;33m\u001b[0m\u001b[1;33m\u001b[0m\u001b[0m\n\u001b[0;32m     59\u001b[0m     tensors = pywrap_tfe.TFE_Py_Execute(ctx._handle, device_name, op_name,\n\u001b[1;32m---> 60\u001b[1;33m                                         inputs, attrs, num_outputs)\n\u001b[0m\u001b[0;32m     61\u001b[0m   \u001b[1;32mexcept\u001b[0m \u001b[0mcore\u001b[0m\u001b[1;33m.\u001b[0m\u001b[0m_NotOkStatusException\u001b[0m \u001b[1;32mas\u001b[0m \u001b[0me\u001b[0m\u001b[1;33m:\u001b[0m\u001b[1;33m\u001b[0m\u001b[1;33m\u001b[0m\u001b[0m\n\u001b[0;32m     62\u001b[0m     \u001b[1;32mif\u001b[0m \u001b[0mname\u001b[0m \u001b[1;32mis\u001b[0m \u001b[1;32mnot\u001b[0m \u001b[1;32mNone\u001b[0m\u001b[1;33m:\u001b[0m\u001b[1;33m\u001b[0m\u001b[1;33m\u001b[0m\u001b[0m\n",
      "\u001b[1;31mKeyboardInterrupt\u001b[0m: "
     ]
    }
   ],
   "source": [
    "trainedModel = loaded_model.fit(train_images_model,\n",
    "                                     steps_per_epoch=int(math.ceil(train_images_model.n/batch_size)),\n",
    "                                     epochs=10,\n",
    "                                     validation_data= test_images_model,\n",
    "                                     callbacks = [early_stop,checkpoint_call],\n",
    "                                     verbose=1)"
   ]
  },
  {
   "cell_type": "code",
   "execution_count": null,
   "id": "patient-nashville",
   "metadata": {},
   "outputs": [],
   "source": []
  }
 ],
 "metadata": {
  "kernelspec": {
   "display_name": "gpuKernel",
   "language": "python",
   "name": "gpukernel"
  },
  "language_info": {
   "codemirror_mode": {
    "name": "ipython",
    "version": 3
   },
   "file_extension": ".py",
   "mimetype": "text/x-python",
   "name": "python",
   "nbconvert_exporter": "python",
   "pygments_lexer": "ipython3",
   "version": "3.7.10"
  }
 },
 "nbformat": 4,
 "nbformat_minor": 5
}
